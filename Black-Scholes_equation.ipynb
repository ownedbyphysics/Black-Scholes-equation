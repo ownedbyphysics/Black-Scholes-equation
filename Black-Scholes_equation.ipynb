{
 "cells": [
  {
   "cell_type": "code",
   "execution_count": 4,
   "metadata": {},
   "outputs": [
    {
     "name": "stdout",
     "output_type": "stream",
     "text": [
      "Call Option Price: 2.47\n",
      "Put Option Price: 11.38\n"
     ]
    }
   ],
   "source": [
    "import numpy as np\n",
    "from scipy.stats import norm\n",
    "\n",
    "def black_scholes_call(S, K, T, r, sigma):\n",
    "    \"\"\"\n",
    "    Calculates the Black-Scholes price for a European call option.\n",
    "\n",
    "    Parameters:\n",
    "    S : float : current stock price\n",
    "    K : float : strike price\n",
    "    T : float : time to maturity in years\n",
    "    r : float : risk-free interest rate (annualized)\n",
    "    sigma : float : volatility (annualized)\n",
    "\n",
    "    Returns:\n",
    "    float : price of the call option\n",
    "    \"\"\"\n",
    "    d1 = (np.log(S / K) + (r + 0.5 * sigma**2) * T) / (sigma * np.sqrt(T))\n",
    "    d2 = d1 - sigma * np.sqrt(T)\n",
    "    call_price = S * norm.cdf(d1) - K * np.exp(-r * T) * norm.cdf(d2)\n",
    "    return call_price\n",
    "\n",
    "def black_scholes_put(S, K, T, r, sigma):\n",
    "    \"\"\"\n",
    "    Calculates the Black-Scholes price for a European put option.\n",
    "\n",
    "    Parameters:\n",
    "    S : float : current stock price\n",
    "    K : float : strike price\n",
    "    T : float : time to maturity in years\n",
    "    r : float : risk-free interest rate (annualized)\n",
    "    sigma : float : volatility (annualized)\n",
    "\n",
    "    Returns:\n",
    "    float : price of the put option\n",
    "    \"\"\"\n",
    "    d1 = (np.log(S / K) + (r + 0.5 * sigma**2) * T) / (sigma * np.sqrt(T))\n",
    "    d2 = d1 - sigma * np.sqrt(T)\n",
    "    put_price = K * np.exp(-r * T) * norm.cdf(-d2) - S * norm.cdf(-d1)\n",
    "    return put_price\n",
    "\n",
    "\n",
    "# Example usage\n",
    "S = 100  # current stock price\n",
    "K = 110  # strike price\n",
    "T = 0.5  # time to maturity in years\n",
    "r = 0.02 # risk-free interest rate\n",
    "sigma = 0.2  # volatility\n",
    "\n",
    "call_price = black_scholes_call(S, K, T, r, sigma)\n",
    "put_price = black_scholes_put(S, K, T, r, sigma)\n",
    "\n",
    "print(f\"Call Option Price: {call_price:.2f}\")\n",
    "print(f\"Put Option Price: {put_price:.2f}\")"
   ]
  },
  {
   "cell_type": "code",
   "execution_count": null,
   "metadata": {},
   "outputs": [],
   "source": []
  },
  {
   "cell_type": "code",
   "execution_count": null,
   "metadata": {},
   "outputs": [],
   "source": []
  }
 ],
 "metadata": {
  "kernelspec": {
   "display_name": "Python 3",
   "language": "python",
   "name": "python3"
  },
  "language_info": {
   "codemirror_mode": {
    "name": "ipython",
    "version": 3
   },
   "file_extension": ".py",
   "mimetype": "text/x-python",
   "name": "python",
   "nbconvert_exporter": "python",
   "pygments_lexer": "ipython3",
   "version": "3.7.3"
  }
 },
 "nbformat": 4,
 "nbformat_minor": 2
}
