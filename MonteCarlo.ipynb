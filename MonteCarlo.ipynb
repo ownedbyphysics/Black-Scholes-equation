{
 "cells": [
  {
   "cell_type": "code",
   "execution_count": 1,
   "metadata": {},
   "outputs": [
    {
     "name": "stdout",
     "output_type": "stream",
     "text": [
      "Call Option Price: 2.42\n",
      "Put Option Price: 11.44\n"
     ]
    }
   ],
   "source": [
    "import numpy as np\n",
    "import matplotlib.pyplot as plt\n",
    "\n",
    "# Parameters \n",
    "S0 = 100  # Initial stock price\n",
    "mu = 0.02  # Drift (mean return)\n",
    "sigma = 0.2  # Volatility (standard deviation of returns)\n",
    "T = 0.5  # Time period (in years)\n",
    "N = 1000  # Number of time steps\n",
    "M = 10000  # Number of paths to simulate\n",
    "K = 110  # Strike price\n",
    "r = 0.02  # Risk-free rate\n",
    "\n",
    "# Time discretization parameters\n",
    "dt = T / N  # Time step size\n",
    "t = np.linspace(0, T, N)  # Time grid\n",
    "\n",
    "# Simulate M paths of Geometric Brownian Motion\n",
    "S = np.zeros((M, N))  # Array to hold all paths\n",
    "S[:, 0] = S0  # Initial stock price for all paths\n",
    "\n",
    "for i in range(1, N):\n",
    "    Z = np.random.normal(0, 1, M) \n",
    "    S[:, i] = S[:, i - 1] * np.exp((mu - 0.5 * sigma**2) * dt + sigma * np.sqrt(dt) * Z)\n",
    "\n",
    "# Calculate the terminal stock prices\n",
    "S_T = S[:, -1]\n",
    "\n",
    "# Calculate Call and Put option payoffs\n",
    "call_payoffs = np.maximum(S_T - K, 0)\n",
    "put_payoffs = np.maximum(K - S_T, 0)\n",
    "\n",
    "call_price = np.exp(-r * T) * np.mean(call_payoffs)\n",
    "put_price = np.exp(-r * T) * np.mean(put_payoffs)\n",
    "\n",
    "print(f\"Call Option Price: {call_price:.2f}\")\n",
    "print(f\"Put Option Price: {put_price:.2f}\")"
   ]
  },
  {
   "cell_type": "code",
   "execution_count": null,
   "metadata": {},
   "outputs": [],
   "source": []
  }
 ],
 "metadata": {
  "kernelspec": {
   "display_name": "Python 3",
   "language": "python",
   "name": "python3"
  },
  "language_info": {
   "codemirror_mode": {
    "name": "ipython",
    "version": 3
   },
   "file_extension": ".py",
   "mimetype": "text/x-python",
   "name": "python",
   "nbconvert_exporter": "python",
   "pygments_lexer": "ipython3",
   "version": "3.7.3"
  }
 },
 "nbformat": 4,
 "nbformat_minor": 2
}
