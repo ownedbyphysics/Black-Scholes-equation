{
 "cells": [
  {
   "cell_type": "code",
   "execution_count": 1,
   "metadata": {},
   "outputs": [],
   "source": [
    "import numpy as np\n",
    "from scipy.stats import norm"
   ]
  },
  {
   "cell_type": "code",
   "execution_count": 4,
   "metadata": {},
   "outputs": [
    {
     "name": "stdout",
     "output_type": "stream",
     "text": [
      "Call Option Price: 2.50\n",
      "Put Option Price: 11.40\n"
     ]
    }
   ],
   "source": [
    "import numpy as np\n",
    "\n",
    "def black_scholes_fd(S0, K, T, r, sigma, M, N, Smax, option_type=\"call\"):\n",
    "    \"\"\"\n",
    "    Solves the Black-Scholes equation for European Call or Put options\n",
    "    using the finite difference method.\n",
    "    \n",
    "    Parameters:\n",
    "        S0: Initial price of the underlying asset\n",
    "        K: Strike price\n",
    "        T: Time to maturity (in years)\n",
    "        r: Risk-free rate\n",
    "        sigma: Volatility\n",
    "        M: Number of time steps\n",
    "        N: Number of asset price steps\n",
    "        Smax: Maximum asset price\n",
    "        option_type: \"call\" or \"put\" (default: \"call\")\n",
    "    \n",
    "    Returns:\n",
    "        A 2D array containing the option values on the grid.\n",
    "    \"\"\"\n",
    "    # Discretization\n",
    "    dt = T / M\n",
    "    dS = Smax / N\n",
    "    \n",
    "    # Create grid for S and t\n",
    "    S = np.linspace(0, Smax, N+1)\n",
    "    t = np.linspace(0, T, M+1)\n",
    "    \n",
    "    # Initialize option price grid\n",
    "    V = np.zeros((M+1, N+1))\n",
    "    \n",
    "    # Set terminal condition (payoff at maturity)\n",
    "    if option_type == \"call\":\n",
    "        V[-1, :] = np.maximum(S - K, 0)  # Payoff for call option\n",
    "    elif option_type == \"put\":\n",
    "        V[-1, :] = np.maximum(K - S, 0)  # Payoff for put option\n",
    "    else:\n",
    "        raise ValueError(\"Invalid option_type. Use 'call' or 'put'.\")\n",
    "        \n",
    "  \n",
    "    if option_type == \"call\":\n",
    "        V[:, -1] = Smax - K  # For call, it's Smax - K\n",
    "    elif option_type == \"put\":\n",
    "        V[:, -1] = K * np.exp(-r * t) - Smax  # For put, it's K * exp(-rT) - Smax\n",
    "\n",
    "    V[:, 0] = 0 \n",
    "    # Backward iteration through time\n",
    "    for n in range(M-1, -1, -1):  # Loop over time steps (from maturity to present)\n",
    "        for i in range(1, N):  # Loop over spatial points (excluding boundaries)\n",
    "            # Calculate second spatial derivative (gamma)\n",
    "            gamma = (V[n+1, i+1] - 2 * V[n+1, i] + V[n+1, i-1]) / (dS**2)\n",
    "            # Calculate first spatial derivative (delta)\n",
    "            delta = (V[n+1, i+1] - V[n+1, i-1]) / (2 * dS)\n",
    "\n",
    "            # Update option value using the finite difference scheme\n",
    "            V[n, i] = V[n+1, i] + dt * (\n",
    "                0.5 * sigma**2 * S[i]**2 * gamma + r * S[i] * delta - r * V[n+1, i]\n",
    "            )\n",
    "\n",
    "    return V, S\n",
    "\n",
    "# Parameters\n",
    "S0 = 100   # Initial price of the underlying asset\n",
    "K = 110    # Strike price\n",
    "T = 0.5    # Time to maturity (in years)\n",
    "r = 0.02    # Annual interest rate\n",
    "sigma = 0.2 # Volatility\n",
    "M = 500    # Number of time intervals\n",
    "N = 100    # Number of asset price intervals\n",
    "Smax = 300 # Maximum asset price\n",
    "\n",
    "# Solve for call and put options\n",
    "V_call, S_call = black_scholes_fd(S0, K, T, r, sigma, M, N, Smax, \"call\")\n",
    "V_put, S_put = black_scholes_fd(S0, K, T, r, sigma, M, N, Smax, \"put\")\n",
    "\n",
    "# Find the option price for S0\n",
    "call_price = np.interp(S0, S_call, V_call[0, :])\n",
    "put_price = np.interp(S0, S_put, V_put[0, :])\n",
    "\n",
    "print(f\"Call Option Price: {call_price:.2f}\")\n",
    "print(f\"Put Option Price: {put_price:.2f}\")"
   ]
  },
  {
   "cell_type": "code",
   "execution_count": null,
   "metadata": {},
   "outputs": [],
   "source": []
  },
  {
   "cell_type": "code",
   "execution_count": null,
   "metadata": {},
   "outputs": [],
   "source": []
  }
 ],
 "metadata": {
  "kernelspec": {
   "display_name": "Python 3",
   "language": "python",
   "name": "python3"
  },
  "language_info": {
   "codemirror_mode": {
    "name": "ipython",
    "version": 3
   },
   "file_extension": ".py",
   "mimetype": "text/x-python",
   "name": "python",
   "nbconvert_exporter": "python",
   "pygments_lexer": "ipython3",
   "version": "3.7.3"
  }
 },
 "nbformat": 4,
 "nbformat_minor": 2
}
